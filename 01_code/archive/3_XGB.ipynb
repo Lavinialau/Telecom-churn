{
 "cells": [
  {
   "cell_type": "code",
   "execution_count": 1,
   "metadata": {},
   "outputs": [
    {
     "name": "stderr",
     "output_type": "stream",
     "text": [
      "Using `tqdm.autonotebook.tqdm` in notebook mode. Use `tqdm.tqdm` instead to force console mode (e.g. in jupyter console)\n"
     ]
    }
   ],
   "source": [
    "# setup\n",
    "# file\n",
    "import os\n",
    "\n",
    "# Data Processing\n",
    "import pandas as pd\n",
    "from sklearn.model_selection import train_test_split\n",
    "from sklearn.preprocessing import OneHotEncoder, StandardScaler, OrdinalEncoder, MinMaxScaler\n",
    "\n",
    "# model\n",
    "from xgboost import XGBClassifier\n",
    "from sklearn.metrics import accuracy_score, confusion_matrix, classification_report\n",
    "\n",
    "# explain\n",
    "import seaborn as sns\n",
    "import shap\n",
    "\n",
    "# folder\n",
    "folder_input = '02_input'\n",
    "\n"
   ]
  },
  {
   "cell_type": "code",
   "execution_count": 2,
   "metadata": {},
   "outputs": [],
   "source": [
    "# import data\n",
    "cleaned_data = pd.read_csv(os.path.join('..', folder_input, 'cleaned_data.csv'))\n"
   ]
  },
  {
   "cell_type": "code",
   "execution_count": 3,
   "metadata": {},
   "outputs": [],
   "source": [
    "# train vs test\n",
    "# seperate target from predictors\n",
    "X = cleaned_data.copy()            # use copy, not to affect original dataset\n",
    "y = X.pop('Churn')        # y = \"churn\", and delete churn from X\n",
    "\n",
    "# train and test\n",
    "X_train, X_test, y_train, y_test = train_test_split(X, y, random_state=0)"
   ]
  },
  {
   "cell_type": "code",
   "execution_count": 4,
   "metadata": {},
   "outputs": [
    {
     "name": "stdout",
     "output_type": "stream",
     "text": [
      "<class 'pandas.core.frame.DataFrame'>\n",
      "RangeIndex: 7043 entries, 0 to 7042\n",
      "Data columns (total 23 columns):\n",
      " #   Column                 Non-Null Count  Dtype  \n",
      "---  ------                 --------------  -----  \n",
      " 0   Churn                  7043 non-null   bool   \n",
      " 1   gender                 7043 non-null   object \n",
      " 2   SeniorCitizen          7043 non-null   int64  \n",
      " 3   Partner                7043 non-null   object \n",
      " 4   Dependents             7043 non-null   object \n",
      " 5   FamilySize             7043 non-null   int64  \n",
      " 6   PhoneService           7043 non-null   object \n",
      " 7   MultipleLines          7043 non-null   object \n",
      " 8   InternetService        7043 non-null   object \n",
      " 9   Is_Internet            7043 non-null   int64  \n",
      " 10  OnlineSecurity         7043 non-null   object \n",
      " 11  OnlineBackup           7043 non-null   object \n",
      " 12  DeviceProtection       7043 non-null   object \n",
      " 13  TechSupport            7043 non-null   object \n",
      " 14  StreamingTV            7043 non-null   object \n",
      " 15  StreamingMovies        7043 non-null   object \n",
      " 16  PaperlessBilling       7043 non-null   object \n",
      " 17  PaymentMethod          7043 non-null   object \n",
      " 18  tenure                 7043 non-null   int64  \n",
      " 19  MonthlyCharges         7043 non-null   float64\n",
      " 20  MonthlyChargesPerHead  7043 non-null   float64\n",
      " 21  Contract               7043 non-null   object \n",
      " 22  Is_Contract_Locked     7043 non-null   int64  \n",
      "dtypes: bool(1), float64(2), int64(5), object(15)\n",
      "memory usage: 1.2+ MB\n"
     ]
    },
    {
     "ename": "NameError",
     "evalue": "name 'cat_encoder' is not defined",
     "output_type": "error",
     "traceback": [
      "\u001b[1;31m---------------------------------------------------------------------------\u001b[0m",
      "\u001b[1;31mNameError\u001b[0m                                 Traceback (most recent call last)",
      "\u001b[1;32mc:\\Users\\Lavinia\\Desktop\\Data Science for Kaggle\\Practice\\20230911_Telcom-churn\\01_code\\3_XGB.ipynb Cell 4\u001b[0m line \u001b[0;36m1\n\u001b[0;32m     <a href='vscode-notebook-cell:/c%3A/Users/Lavinia/Desktop/Data%20Science%20for%20Kaggle/Practice/20230911_Telcom-churn/01_code/3_XGB.ipynb#W3sZmlsZQ%3D%3D?line=11'>12</a>\u001b[0m OH_encoder \u001b[39m=\u001b[39m OneHotEncoder(handle_unknown\u001b[39m=\u001b[39m\u001b[39m'\u001b[39m\u001b[39mignore\u001b[39m\u001b[39m'\u001b[39m, sparse\u001b[39m=\u001b[39m\u001b[39mFalse\u001b[39;00m)\n\u001b[0;32m     <a href='vscode-notebook-cell:/c%3A/Users/Lavinia/Desktop/Data%20Science%20for%20Kaggle/Practice/20230911_Telcom-churn/01_code/3_XGB.ipynb#W3sZmlsZQ%3D%3D?line=12'>13</a>\u001b[0m \u001b[39m# cat_encoder = OrdinalEncoder()\u001b[39;00m\n\u001b[1;32m---> <a href='vscode-notebook-cell:/c%3A/Users/Lavinia/Desktop/Data%20Science%20for%20Kaggle/Practice/20230911_Telcom-churn/01_code/3_XGB.ipynb#W3sZmlsZQ%3D%3D?line=13'>14</a>\u001b[0m cat_cols_train \u001b[39m=\u001b[39m pd\u001b[39m.\u001b[39mDataFrame(cat_encoder\u001b[39m.\u001b[39mfit_transform(X_train[categorical_cols]))\n\u001b[0;32m     <a href='vscode-notebook-cell:/c%3A/Users/Lavinia/Desktop/Data%20Science%20for%20Kaggle/Practice/20230911_Telcom-churn/01_code/3_XGB.ipynb#W3sZmlsZQ%3D%3D?line=14'>15</a>\u001b[0m cat_cols_test \u001b[39m=\u001b[39m pd\u001b[39m.\u001b[39mDataFrame(cat_encoder\u001b[39m.\u001b[39mfit_transform(X_test[categorical_cols]))\n\u001b[0;32m     <a href='vscode-notebook-cell:/c%3A/Users/Lavinia/Desktop/Data%20Science%20for%20Kaggle/Practice/20230911_Telcom-churn/01_code/3_XGB.ipynb#W3sZmlsZQ%3D%3D?line=16'>17</a>\u001b[0m \u001b[39m# One-hot encoding removed index; put it back\u001b[39;00m\n",
      "\u001b[1;31mNameError\u001b[0m: name 'cat_encoder' is not defined"
     ]
    }
   ],
   "source": [
    "# preprocessing for categorical data\n",
    "cleaned_data.info()\n",
    "\n",
    "# select categorical columns\n",
    "# PS: [categorical_cols] mean == True\n",
    "categorical_cols = X_train.dtypes == 'object'\n",
    "categorical_cols = list(categorical_cols[categorical_cols].index)  \n",
    "categorical_cols    \n",
    "\n",
    "# categogical encoder\n",
    "# PS: The output is a series, need to turn to dataframe\n",
    "OH_encoder = OneHotEncoder(handle_unknown='ignore', sparse=False)\n",
    "# cat_encoder = OrdinalEncoder()\n",
    "cat_cols_train = pd.DataFrame(cat_encoder.fit_transform(X_train[categorical_cols]))\n",
    "cat_cols_test = pd.DataFrame(cat_encoder.fit_transform(X_test[categorical_cols]))\n",
    "\n",
    "# One-hot encoding removed index; put it back\n",
    "cat_cols_train.index = X_train.index\n",
    "cat_cols_test.index = X_test.index\n",
    "\n",
    "# add back colnames\n",
    "cat_cols_train.columns = cat_encoder.get_feature_names_out()\n",
    "cat_cols_test.columns = cat_encoder.get_feature_names_out()\n",
    "\n",
    "\n",
    "# Remove categorical columns (will replace with one-hot encoding)\n",
    "num_X_train = X_train.drop(categorical_cols, axis=1)\n",
    "num_X_test = X_test.drop(categorical_cols, axis=1)\n",
    "\n",
    "# Add one-hot encoded columns to numerical features\n",
    "X_train = pd.concat([num_X_train, cat_cols_train], axis=1)\n",
    "X_test = pd.concat([num_X_test, cat_cols_test], axis=1)\n",
    "\n",
    "\n",
    "X_train.head()\n"
   ]
  },
  {
   "cell_type": "code",
   "execution_count": null,
   "metadata": {},
   "outputs": [
    {
     "data": {
      "text/html": [
       "<div>\n",
       "<style scoped>\n",
       "    .dataframe tbody tr th:only-of-type {\n",
       "        vertical-align: middle;\n",
       "    }\n",
       "\n",
       "    .dataframe tbody tr th {\n",
       "        vertical-align: top;\n",
       "    }\n",
       "\n",
       "    .dataframe thead th {\n",
       "        text-align: right;\n",
       "    }\n",
       "</style>\n",
       "<table border=\"1\" class=\"dataframe\">\n",
       "  <thead>\n",
       "    <tr style=\"text-align: right;\">\n",
       "      <th></th>\n",
       "      <th>gender</th>\n",
       "      <th>Partner</th>\n",
       "      <th>Dependents</th>\n",
       "      <th>PhoneService</th>\n",
       "      <th>MultipleLines</th>\n",
       "      <th>InternetService</th>\n",
       "      <th>OnlineSecurity</th>\n",
       "      <th>OnlineBackup</th>\n",
       "      <th>DeviceProtection</th>\n",
       "      <th>TechSupport</th>\n",
       "      <th>...</th>\n",
       "      <th>PaperlessBilling</th>\n",
       "      <th>PaymentMethod</th>\n",
       "      <th>Contract</th>\n",
       "      <th>SeniorCitizen</th>\n",
       "      <th>FamilySize</th>\n",
       "      <th>Is_Internet</th>\n",
       "      <th>tenure</th>\n",
       "      <th>MonthlyCharges</th>\n",
       "      <th>MonthlyChargesPerHead</th>\n",
       "      <th>Is_Contract_Locked</th>\n",
       "    </tr>\n",
       "  </thead>\n",
       "  <tbody>\n",
       "    <tr>\n",
       "      <th>3296</th>\n",
       "      <td>1.0</td>\n",
       "      <td>0.0</td>\n",
       "      <td>0.0</td>\n",
       "      <td>1.0</td>\n",
       "      <td>1.0</td>\n",
       "      <td>1.0</td>\n",
       "      <td>1.0</td>\n",
       "      <td>0.0</td>\n",
       "      <td>1.0</td>\n",
       "      <td>0.0</td>\n",
       "      <td>...</td>\n",
       "      <td>1.0</td>\n",
       "      <td>2.0</td>\n",
       "      <td>0.0</td>\n",
       "      <td>0.0</td>\n",
       "      <td>0.0</td>\n",
       "      <td>1.0</td>\n",
       "      <td>0.263889</td>\n",
       "      <td>0.661692</td>\n",
       "      <td>0.698354</td>\n",
       "      <td>0.0</td>\n",
       "    </tr>\n",
       "    <tr>\n",
       "      <th>6397</th>\n",
       "      <td>0.0</td>\n",
       "      <td>1.0</td>\n",
       "      <td>1.0</td>\n",
       "      <td>1.0</td>\n",
       "      <td>1.0</td>\n",
       "      <td>0.0</td>\n",
       "      <td>1.0</td>\n",
       "      <td>0.0</td>\n",
       "      <td>1.0</td>\n",
       "      <td>0.0</td>\n",
       "      <td>...</td>\n",
       "      <td>1.0</td>\n",
       "      <td>0.0</td>\n",
       "      <td>2.0</td>\n",
       "      <td>0.0</td>\n",
       "      <td>1.0</td>\n",
       "      <td>1.0</td>\n",
       "      <td>1.000000</td>\n",
       "      <td>0.529353</td>\n",
       "      <td>0.156162</td>\n",
       "      <td>1.0</td>\n",
       "    </tr>\n",
       "    <tr>\n",
       "      <th>6043</th>\n",
       "      <td>0.0</td>\n",
       "      <td>1.0</td>\n",
       "      <td>1.0</td>\n",
       "      <td>1.0</td>\n",
       "      <td>1.0</td>\n",
       "      <td>1.0</td>\n",
       "      <td>0.0</td>\n",
       "      <td>1.0</td>\n",
       "      <td>0.0</td>\n",
       "      <td>0.0</td>\n",
       "      <td>...</td>\n",
       "      <td>1.0</td>\n",
       "      <td>2.0</td>\n",
       "      <td>0.0</td>\n",
       "      <td>0.0</td>\n",
       "      <td>1.0</td>\n",
       "      <td>1.0</td>\n",
       "      <td>0.847222</td>\n",
       "      <td>0.804975</td>\n",
       "      <td>0.238321</td>\n",
       "      <td>0.0</td>\n",
       "    </tr>\n",
       "    <tr>\n",
       "      <th>5309</th>\n",
       "      <td>0.0</td>\n",
       "      <td>1.0</td>\n",
       "      <td>1.0</td>\n",
       "      <td>1.0</td>\n",
       "      <td>1.0</td>\n",
       "      <td>2.0</td>\n",
       "      <td>0.0</td>\n",
       "      <td>0.0</td>\n",
       "      <td>0.0</td>\n",
       "      <td>0.0</td>\n",
       "      <td>...</td>\n",
       "      <td>0.0</td>\n",
       "      <td>1.0</td>\n",
       "      <td>2.0</td>\n",
       "      <td>0.0</td>\n",
       "      <td>1.0</td>\n",
       "      <td>0.0</td>\n",
       "      <td>0.472222</td>\n",
       "      <td>0.066667</td>\n",
       "      <td>0.018241</td>\n",
       "      <td>1.0</td>\n",
       "    </tr>\n",
       "    <tr>\n",
       "      <th>3000</th>\n",
       "      <td>1.0</td>\n",
       "      <td>0.0</td>\n",
       "      <td>0.0</td>\n",
       "      <td>0.0</td>\n",
       "      <td>0.0</td>\n",
       "      <td>0.0</td>\n",
       "      <td>1.0</td>\n",
       "      <td>1.0</td>\n",
       "      <td>1.0</td>\n",
       "      <td>1.0</td>\n",
       "      <td>...</td>\n",
       "      <td>0.0</td>\n",
       "      <td>0.0</td>\n",
       "      <td>2.0</td>\n",
       "      <td>0.0</td>\n",
       "      <td>0.0</td>\n",
       "      <td>1.0</td>\n",
       "      <td>0.986111</td>\n",
       "      <td>0.355224</td>\n",
       "      <td>0.424292</td>\n",
       "      <td>1.0</td>\n",
       "    </tr>\n",
       "  </tbody>\n",
       "</table>\n",
       "<p>5 rows × 22 columns</p>\n",
       "</div>"
      ],
      "text/plain": [
       "      gender  Partner  Dependents  PhoneService  MultipleLines  \\\n",
       "3296     1.0      0.0         0.0           1.0            1.0   \n",
       "6397     0.0      1.0         1.0           1.0            1.0   \n",
       "6043     0.0      1.0         1.0           1.0            1.0   \n",
       "5309     0.0      1.0         1.0           1.0            1.0   \n",
       "3000     1.0      0.0         0.0           0.0            0.0   \n",
       "\n",
       "      InternetService  OnlineSecurity  OnlineBackup  DeviceProtection  \\\n",
       "3296              1.0             1.0           0.0               1.0   \n",
       "6397              0.0             1.0           0.0               1.0   \n",
       "6043              1.0             0.0           1.0               0.0   \n",
       "5309              2.0             0.0           0.0               0.0   \n",
       "3000              0.0             1.0           1.0               1.0   \n",
       "\n",
       "      TechSupport  ...  PaperlessBilling  PaymentMethod  Contract  \\\n",
       "3296          0.0  ...               1.0            2.0       0.0   \n",
       "6397          0.0  ...               1.0            0.0       2.0   \n",
       "6043          0.0  ...               1.0            2.0       0.0   \n",
       "5309          0.0  ...               0.0            1.0       2.0   \n",
       "3000          1.0  ...               0.0            0.0       2.0   \n",
       "\n",
       "      SeniorCitizen  FamilySize  Is_Internet    tenure  MonthlyCharges  \\\n",
       "3296            0.0         0.0          1.0  0.263889        0.661692   \n",
       "6397            0.0         1.0          1.0  1.000000        0.529353   \n",
       "6043            0.0         1.0          1.0  0.847222        0.804975   \n",
       "5309            0.0         1.0          0.0  0.472222        0.066667   \n",
       "3000            0.0         0.0          1.0  0.986111        0.355224   \n",
       "\n",
       "      MonthlyChargesPerHead  Is_Contract_Locked  \n",
       "3296               0.698354                 0.0  \n",
       "6397               0.156162                 1.0  \n",
       "6043               0.238321                 0.0  \n",
       "5309               0.018241                 1.0  \n",
       "3000               0.424292                 1.0  \n",
       "\n",
       "[5 rows x 22 columns]"
      ]
     },
     "execution_count": 365,
     "metadata": {},
     "output_type": "execute_result"
    }
   ],
   "source": [
    "# preprocessing for numerical data\n",
    "numericial_cols = cleaned_data.select_dtypes(include=['int64', 'float64']).columns\n",
    "\n",
    "#scaler\n",
    "num_encoder = MinMaxScaler()\n",
    "num_cols_train = pd.DataFrame(num_encoder.fit_transform(X_train[numericial_cols]))\n",
    "num_cols_test = pd.DataFrame(num_encoder.fit_transform(X_test[numericial_cols]))\n",
    "\n",
    "#encoding removed index; put it back\n",
    "num_cols_train.index = X_train.index\n",
    "num_cols_test.index = X_test.index\n",
    "\n",
    "# add back colnames\n",
    "num_cols_train.columns = num_encoder.get_feature_names_out()\n",
    "num_cols_test.columns = num_encoder.get_feature_names_out()\n",
    "\n",
    "# Remove numerical  columns (will replace with encoding)\n",
    "cat_X_train = X_train.drop(numericial_cols, axis=1)\n",
    "cat_X_test = X_test.drop(numericial_cols, axis=1)\n",
    "\n",
    "# Add one-hot encoded columns to numerical features\n",
    "X_train = pd.concat([cat_X_train, num_cols_train], axis=1)\n",
    "X_test = pd.concat([cat_X_test, num_cols_test], axis=1)\n",
    "\n",
    "\n",
    "X_train.head()\n",
    "\n"
   ]
  },
  {
   "cell_type": "code",
   "execution_count": null,
   "metadata": {},
   "outputs": [],
   "source": [
    "# xgboost\n",
    "xgbmodel = XGBClassifier(n_estimators = 1000, random_state=0,scale_pos_weight=5)\n",
    "xgbmodel.fit(\n",
    "    X_train,\n",
    "    y_train\n",
    ")\n",
    "\n",
    "# prediction\n",
    "preds = xgbmodel.predict(X_test)"
   ]
  },
  {
   "cell_type": "code",
   "execution_count": null,
   "metadata": {},
   "outputs": [
    {
     "data": {
      "text/plain": [
       "0.7830777967064169"
      ]
     },
     "execution_count": 367,
     "metadata": {},
     "output_type": "execute_result"
    }
   ],
   "source": [
    "# evaluation\n",
    "accuracy_score(y_test, preds)"
   ]
  },
  {
   "cell_type": "code",
   "execution_count": null,
   "metadata": {},
   "outputs": [
    {
     "data": {
      "text/plain": [
       "array([[1138,  165],\n",
       "       [ 217,  241]], dtype=int64)"
      ]
     },
     "execution_count": 368,
     "metadata": {},
     "output_type": "execute_result"
    }
   ],
   "source": [
    "# confusion matrix\n",
    "confusion_matrix(y_test, preds)"
   ]
  },
  {
   "cell_type": "code",
   "execution_count": null,
   "metadata": {},
   "outputs": [
    {
     "name": "stdout",
     "output_type": "stream",
     "text": [
      "              precision    recall  f1-score   support\n",
      "\n",
      "       False       0.84      0.87      0.86      1303\n",
      "        True       0.59      0.53      0.56       458\n",
      "\n",
      "    accuracy                           0.78      1761\n",
      "   macro avg       0.72      0.70      0.71      1761\n",
      "weighted avg       0.78      0.78      0.78      1761\n",
      "\n"
     ]
    }
   ],
   "source": [
    "# classification report\n",
    "print(classification_report(y_test, preds))"
   ]
  },
  {
   "cell_type": "code",
   "execution_count": null,
   "metadata": {},
   "outputs": [
    {
     "data": {
      "text/plain": [
       "<Axes: >"
      ]
     },
     "execution_count": 370,
     "metadata": {},
     "output_type": "execute_result"
    },
    {
     "data": {
      "image/png": "[encoded data removed]",
      "text/plain": [
       "<Figure size 1100x800 with 1 Axes>"
      ]
     },
     "metadata": {},
     "output_type": "display_data"
    }
   ],
   "source": [
    "# feature importance\n",
    "xgb_importance = pd.Series(xgbmodel.feature_importances_, index=X_train.columns).sort_values(ascending= False)\n",
    "xgb_importance\n",
    "\n",
    "# plot it\n",
    "sns.set(rc={'figure.figsize':(11,8)})\n",
    "sns.barplot(x = xgb_importance.values,\n",
    "            y = xgb_importance.index)"
   ]
  }
 ],
 "metadata": {
  "kernelspec": {
   "display_name": "myenv",
   "language": "python",
   "name": "python3"
  },
  "language_info": {
   "codemirror_mode": {
    "name": "ipython",
    "version": 3
   },
   "file_extension": ".py",
   "mimetype": "text/x-python",
   "name": "python",
   "nbconvert_exporter": "python",
   "pygments_lexer": "ipython3",
   "version": "3.10.13"
  },
  "orig_nbformat": 4
 },
 "nbformat": 4,
 "nbformat_minor": 2
}
